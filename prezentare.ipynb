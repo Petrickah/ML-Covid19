{
 "metadata": {
  "language_info": {
   "codemirror_mode": {
    "name": "ipython",
    "version": 3
   },
   "file_extension": ".py",
   "mimetype": "text/x-python",
   "name": "python",
   "nbconvert_exporter": "python",
   "pygments_lexer": "ipython3",
   "version": "3.8.3"
  },
  "orig_nbformat": 2,
  "kernelspec": {
   "name": "python383jvsc74a57bd0b3ba2566441a7c06988d0923437866b63cedc61552a5af99d1f4fb67d367b25f",
   "display_name": "Python 3.8.3 64-bit (conda)"
  }
 },
 "nbformat": 4,
 "nbformat_minor": 2,
 "cells": [
  {
   "source": [
    "### Prezentarea setului de date de antrenare\n",
    "Prezicerea numărului de cazuri confirmate de Covid19 într-o țară"
   ],
   "cell_type": "markdown",
   "metadata": {}
  },
  {
   "cell_type": "code",
   "execution_count": 1,
   "metadata": {},
   "outputs": [],
   "source": [
    "import pandas as pd\n",
    "import numpy as np\n",
    "from plotly import graph_objects as go"
   ]
  },
  {
   "cell_type": "code",
   "execution_count": 2,
   "metadata": {},
   "outputs": [],
   "source": [
    "tara = \"Romania\"\n",
    "csv = pd.read_csv(\"./covid19_final.csv\", index_col=\"Country\")\n",
    "romania = csv.loc[tara,:].set_index(\"Week\")\n",
    "romania = romania/1000"
   ]
  },
  {
   "cell_type": "code",
   "execution_count": 3,
   "metadata": {},
   "outputs": [
    {
     "output_type": "execute_result",
     "data": {
      "text/plain": [
       "       Open   High    Low  Close\n",
       "Week                            \n",
       "44    4.875  4.875  1.194  4.729\n",
       "45    5.719  5.719  1.987  3.697\n",
       "46    4.424  4.424  1.509  2.745\n",
       "47    3.000  3.000  1.551  2.877\n",
       "48    3.174  3.174  1.313  2.676\n",
       "49    2.752  2.797  1.319  2.797\n",
       "50    3.048  3.048  1.331  2.676\n",
       "51    2.815  3.382  1.634  3.382"
      ],
      "text/html": "<div>\n<style scoped>\n    .dataframe tbody tr th:only-of-type {\n        vertical-align: middle;\n    }\n\n    .dataframe tbody tr th {\n        vertical-align: top;\n    }\n\n    .dataframe thead th {\n        text-align: right;\n    }\n</style>\n<table border=\"1\" class=\"dataframe\">\n  <thead>\n    <tr style=\"text-align: right;\">\n      <th></th>\n      <th>Open</th>\n      <th>High</th>\n      <th>Low</th>\n      <th>Close</th>\n    </tr>\n    <tr>\n      <th>Week</th>\n      <th></th>\n      <th></th>\n      <th></th>\n      <th></th>\n    </tr>\n  </thead>\n  <tbody>\n    <tr>\n      <th>44</th>\n      <td>4.875</td>\n      <td>4.875</td>\n      <td>1.194</td>\n      <td>4.729</td>\n    </tr>\n    <tr>\n      <th>45</th>\n      <td>5.719</td>\n      <td>5.719</td>\n      <td>1.987</td>\n      <td>3.697</td>\n    </tr>\n    <tr>\n      <th>46</th>\n      <td>4.424</td>\n      <td>4.424</td>\n      <td>1.509</td>\n      <td>2.745</td>\n    </tr>\n    <tr>\n      <th>47</th>\n      <td>3.000</td>\n      <td>3.000</td>\n      <td>1.551</td>\n      <td>2.877</td>\n    </tr>\n    <tr>\n      <th>48</th>\n      <td>3.174</td>\n      <td>3.174</td>\n      <td>1.313</td>\n      <td>2.676</td>\n    </tr>\n    <tr>\n      <th>49</th>\n      <td>2.752</td>\n      <td>2.797</td>\n      <td>1.319</td>\n      <td>2.797</td>\n    </tr>\n    <tr>\n      <th>50</th>\n      <td>3.048</td>\n      <td>3.048</td>\n      <td>1.331</td>\n      <td>2.676</td>\n    </tr>\n    <tr>\n      <th>51</th>\n      <td>2.815</td>\n      <td>3.382</td>\n      <td>1.634</td>\n      <td>3.382</td>\n    </tr>\n  </tbody>\n</table>\n</div>"
     },
     "metadata": {},
     "execution_count": 3
    }
   ],
   "source": [
    "romania.tail(8)"
   ]
  },
  {
   "source": [
    "### Prezentarea setului de date, pe saptamani, a numarului de cazuri de COVID-19 in Romania\n",
    "Pentru fiecare saptamana in parte s-a luat numarul de cazuri la inceputul si sfarsitului ei si intervalul pe care aceste date s-au plimbat.\n",
    "In final s-a obtinut un grafic, precum cele financiare, care cu verde arata ca numarul de cazuri a crescut in acea saptamana si cu rosu au scazut\n",
    "\n",
    "S-a incercat pe baza datelor dintr-o saptamana sa se prezica, folosind modele de regresie liniara, numarul de cazuri care se va inregistra in urmatoarea saptamana. Numarul real de cazuri poate sa oscileze pe un interval de +/- eroarea medie patratica a modelului."
   ],
   "cell_type": "markdown",
   "metadata": {}
  },
  {
   "cell_type": "code",
   "execution_count": 4,
   "metadata": {},
   "outputs": [],
   "source": [
    "concluzii = pd.DataFrame(columns=[\"Model_Regresie\", \"Theta_0\", \"Theta_1\", \"Theta_2\", \"Theta_3\", \"Intercept\", \"MSE\", \"Coef_Det\"])"
   ]
  },
  {
   "cell_type": "code",
   "execution_count": 5,
   "metadata": {},
   "outputs": [
    {
     "output_type": "display_data",
     "data": {
      "application/vnd.plotly.v1+json": {
       "config": {
        "plotlyServerURL": "https://plot.ly"
       },
       "data": [
        {
         "close": [
          0,
          0.01,
          0.026,
          0.218,
          0.136,
          0.36,
          0.246,
          0.306,
          0.277,
          0.325,
          0.19,
          0.155,
          0.146,
          0.119,
          0.145,
          0.25,
          0.214,
          0.388,
          0.397,
          0.637,
          0.994,
          1.151,
          1.232,
          1.215,
          1.014,
          1.06,
          1.053,
          1.136,
          1.111,
          1.059,
          1.47,
          2.121,
          3.109,
          3.4,
          4.724,
          7.733,
          7.304,
          8.262,
          7.753,
          4.272,
          7.439,
          6.171,
          5.009,
          4.637,
          4.729,
          3.697,
          2.745,
          2.877,
          2.676,
          2.797,
          2.676,
          3.382
         ],
         "high": [
          0.002,
          0.01,
          0.04,
          0.218,
          0.363,
          0.445,
          0.523,
          0.491,
          0.468,
          0.431,
          0.392,
          0.267,
          0.213,
          0.197,
          0.238,
          0.32,
          0.345,
          0.46,
          0.45,
          0.698,
          0.994,
          1.284,
          1.356,
          1.378,
          1.454,
          1.409,
          1.504,
          1.365,
          1.391,
          1.713,
          1.767,
          2.343,
          3.517,
          4.026,
          5.028,
          7.733,
          10.26,
          10.142,
          10.269,
          9.739,
          8.072,
          7.365,
          5.991,
          5.459,
          4.875,
          5.719,
          4.424,
          3,
          3.174,
          2.797,
          3.048,
          3.382
         ],
         "low": [
          0,
          0,
          0.004,
          0.017,
          0.112,
          0.193,
          0.246,
          0.19,
          0.218,
          0.165,
          0.19,
          0.155,
          0.127,
          0.119,
          0.125,
          0.166,
          0.214,
          0.269,
          0.25,
          0.413,
          0.641,
          1.03,
          0.823,
          0.779,
          0.733,
          0.825,
          0.755,
          0.883,
          0.692,
          0.808,
          1.271,
          1.591,
          2.069,
          2.466,
          2.844,
          4.041,
          3.24,
          4.931,
          4.207,
          3.826,
          3.66,
          3.252,
          2.489,
          1.387,
          1.194,
          1.987,
          1.509,
          1.551,
          1.313,
          1.319,
          1.331,
          1.634
         ],
         "open": [
          0,
          0.001,
          0.02,
          0.076,
          0.112,
          0.215,
          0.344,
          0.337,
          0.468,
          0.362,
          0.27,
          0.224,
          0.196,
          0.165,
          0.152,
          0.196,
          0.345,
          0.321,
          0.326,
          0.555,
          0.641,
          1.03,
          1.182,
          1.309,
          1.415,
          1.409,
          1.256,
          1.298,
          1.271,
          1.713,
          1.767,
          2.158,
          2.958,
          4.016,
          4.848,
          5.343,
          8.651,
          9.799,
          10.269,
          9.739,
          4.916,
          7.365,
          5.991,
          5.459,
          4.875,
          5.719,
          4.424,
          3,
          3.174,
          2.752,
          3.048,
          2.815
         ],
         "type": "candlestick",
         "x": [
          0,
          1,
          2,
          3,
          4,
          5,
          6,
          7,
          8,
          9,
          10,
          11,
          12,
          13,
          14,
          15,
          16,
          17,
          18,
          19,
          20,
          21,
          22,
          23,
          24,
          25,
          26,
          27,
          28,
          29,
          30,
          31,
          32,
          33,
          34,
          35,
          36,
          37,
          38,
          39,
          40,
          41,
          42,
          43,
          44,
          45,
          46,
          47,
          48,
          49,
          50,
          51
         ]
        }
       ],
       "layout": {
        "template": {
         "data": {
          "bar": [
           {
            "error_x": {
             "color": "#2a3f5f"
            },
            "error_y": {
             "color": "#2a3f5f"
            },
            "marker": {
             "line": {
              "color": "#E5ECF6",
              "width": 0.5
             }
            },
            "type": "bar"
           }
          ],
          "barpolar": [
           {
            "marker": {
             "line": {
              "color": "#E5ECF6",
              "width": 0.5
             }
            },
            "type": "barpolar"
           }
          ],
          "carpet": [
           {
            "aaxis": {
             "endlinecolor": "#2a3f5f",
             "gridcolor": "white",
             "linecolor": "white",
             "minorgridcolor": "white",
             "startlinecolor": "#2a3f5f"
            },
            "baxis": {
             "endlinecolor": "#2a3f5f",
             "gridcolor": "white",
             "linecolor": "white",
             "minorgridcolor": "white",
             "startlinecolor": "#2a3f5f"
            },
            "type": "carpet"
           }
          ],
          "choropleth": [
           {
            "colorbar": {
             "outlinewidth": 0,
             "ticks": ""
            },
            "type": "choropleth"
           }
          ],
          "contour": [
           {
            "colorbar": {
             "outlinewidth": 0,
             "ticks": ""
            },
            "colorscale": [
             [
              0,
              "#0d0887"
             ],
             [
              0.1111111111111111,
              "#46039f"
             ],
             [
              0.2222222222222222,
              "#7201a8"
             ],
             [
              0.3333333333333333,
              "#9c179e"
             ],
             [
              0.4444444444444444,
              "#bd3786"
             ],
             [
              0.5555555555555556,
              "#d8576b"
             ],
             [
              0.6666666666666666,
              "#ed7953"
             ],
             [
              0.7777777777777778,
              "#fb9f3a"
             ],
             [
              0.8888888888888888,
              "#fdca26"
             ],
             [
              1,
              "#f0f921"
             ]
            ],
            "type": "contour"
           }
          ],
          "contourcarpet": [
           {
            "colorbar": {
             "outlinewidth": 0,
             "ticks": ""
            },
            "type": "contourcarpet"
           }
          ],
          "heatmap": [
           {
            "colorbar": {
             "outlinewidth": 0,
             "ticks": ""
            },
            "colorscale": [
             [
              0,
              "#0d0887"
             ],
             [
              0.1111111111111111,
              "#46039f"
             ],
             [
              0.2222222222222222,
              "#7201a8"
             ],
             [
              0.3333333333333333,
              "#9c179e"
             ],
             [
              0.4444444444444444,
              "#bd3786"
             ],
             [
              0.5555555555555556,
              "#d8576b"
             ],
             [
              0.6666666666666666,
              "#ed7953"
             ],
             [
              0.7777777777777778,
              "#fb9f3a"
             ],
             [
              0.8888888888888888,
              "#fdca26"
             ],
             [
              1,
              "#f0f921"
             ]
            ],
            "type": "heatmap"
           }
          ],
          "heatmapgl": [
           {
            "colorbar": {
             "outlinewidth": 0,
             "ticks": ""
            },
            "colorscale": [
             [
              0,
              "#0d0887"
             ],
             [
              0.1111111111111111,
              "#46039f"
             ],
             [
              0.2222222222222222,
              "#7201a8"
             ],
             [
              0.3333333333333333,
              "#9c179e"
             ],
             [
              0.4444444444444444,
              "#bd3786"
             ],
             [
              0.5555555555555556,
              "#d8576b"
             ],
             [
              0.6666666666666666,
              "#ed7953"
             ],
             [
              0.7777777777777778,
              "#fb9f3a"
             ],
             [
              0.8888888888888888,
              "#fdca26"
             ],
             [
              1,
              "#f0f921"
             ]
            ],
            "type": "heatmapgl"
           }
          ],
          "histogram": [
           {
            "marker": {
             "colorbar": {
              "outlinewidth": 0,
              "ticks": ""
             }
            },
            "type": "histogram"
           }
          ],
          "histogram2d": [
           {
            "colorbar": {
             "outlinewidth": 0,
             "ticks": ""
            },
            "colorscale": [
             [
              0,
              "#0d0887"
             ],
             [
              0.1111111111111111,
              "#46039f"
             ],
             [
              0.2222222222222222,
              "#7201a8"
             ],
             [
              0.3333333333333333,
              "#9c179e"
             ],
             [
              0.4444444444444444,
              "#bd3786"
             ],
             [
              0.5555555555555556,
              "#d8576b"
             ],
             [
              0.6666666666666666,
              "#ed7953"
             ],
             [
              0.7777777777777778,
              "#fb9f3a"
             ],
             [
              0.8888888888888888,
              "#fdca26"
             ],
             [
              1,
              "#f0f921"
             ]
            ],
            "type": "histogram2d"
           }
          ],
          "histogram2dcontour": [
           {
            "colorbar": {
             "outlinewidth": 0,
             "ticks": ""
            },
            "colorscale": [
             [
              0,
              "#0d0887"
             ],
             [
              0.1111111111111111,
              "#46039f"
             ],
             [
              0.2222222222222222,
              "#7201a8"
             ],
             [
              0.3333333333333333,
              "#9c179e"
             ],
             [
              0.4444444444444444,
              "#bd3786"
             ],
             [
              0.5555555555555556,
              "#d8576b"
             ],
             [
              0.6666666666666666,
              "#ed7953"
             ],
             [
              0.7777777777777778,
              "#fb9f3a"
             ],
             [
              0.8888888888888888,
              "#fdca26"
             ],
             [
              1,
              "#f0f921"
             ]
            ],
            "type": "histogram2dcontour"
           }
          ],
          "mesh3d": [
           {
            "colorbar": {
             "outlinewidth": 0,
             "ticks": ""
            },
            "type": "mesh3d"
           }
          ],
          "parcoords": [
           {
            "line": {
             "colorbar": {
              "outlinewidth": 0,
              "ticks": ""
             }
            },
            "type": "parcoords"
           }
          ],
          "pie": [
           {
            "automargin": true,
            "type": "pie"
           }
          ],
          "scatter": [
           {
            "marker": {
             "colorbar": {
              "outlinewidth": 0,
              "ticks": ""
             }
            },
            "type": "scatter"
           }
          ],
          "scatter3d": [
           {
            "line": {
             "colorbar": {
              "outlinewidth": 0,
              "ticks": ""
             }
            },
            "marker": {
             "colorbar": {
              "outlinewidth": 0,
              "ticks": ""
             }
            },
            "type": "scatter3d"
           }
          ],
          "scattercarpet": [
           {
            "marker": {
             "colorbar": {
              "outlinewidth": 0,
              "ticks": ""
             }
            },
            "type": "scattercarpet"
           }
          ],
          "scattergeo": [
           {
            "marker": {
             "colorbar": {
              "outlinewidth": 0,
              "ticks": ""
             }
            },
            "type": "scattergeo"
           }
          ],
          "scattergl": [
           {
            "marker": {
             "colorbar": {
              "outlinewidth": 0,
              "ticks": ""
             }
            },
            "type": "scattergl"
           }
          ],
          "scattermapbox": [
           {
            "marker": {
             "colorbar": {
              "outlinewidth": 0,
              "ticks": ""
             }
            },
            "type": "scattermapbox"
           }
          ],
          "scatterpolar": [
           {
            "marker": {
             "colorbar": {
              "outlinewidth": 0,
              "ticks": ""
             }
            },
            "type": "scatterpolar"
           }
          ],
          "scatterpolargl": [
           {
            "marker": {
             "colorbar": {
              "outlinewidth": 0,
              "ticks": ""
             }
            },
            "type": "scatterpolargl"
           }
          ],
          "scatterternary": [
           {
            "marker": {
             "colorbar": {
              "outlinewidth": 0,
              "ticks": ""
             }
            },
            "type": "scatterternary"
           }
          ],
          "surface": [
           {
            "colorbar": {
             "outlinewidth": 0,
             "ticks": ""
            },
            "colorscale": [
             [
              0,
              "#0d0887"
             ],
             [
              0.1111111111111111,
              "#46039f"
             ],
             [
              0.2222222222222222,
              "#7201a8"
             ],
             [
              0.3333333333333333,
              "#9c179e"
             ],
             [
              0.4444444444444444,
              "#bd3786"
             ],
             [
              0.5555555555555556,
              "#d8576b"
             ],
             [
              0.6666666666666666,
              "#ed7953"
             ],
             [
              0.7777777777777778,
              "#fb9f3a"
             ],
             [
              0.8888888888888888,
              "#fdca26"
             ],
             [
              1,
              "#f0f921"
             ]
            ],
            "type": "surface"
           }
          ],
          "table": [
           {
            "cells": {
             "fill": {
              "color": "#EBF0F8"
             },
             "line": {
              "color": "white"
             }
            },
            "header": {
             "fill": {
              "color": "#C8D4E3"
             },
             "line": {
              "color": "white"
             }
            },
            "type": "table"
           }
          ]
         },
         "layout": {
          "annotationdefaults": {
           "arrowcolor": "#2a3f5f",
           "arrowhead": 0,
           "arrowwidth": 1
          },
          "autotypenumbers": "strict",
          "coloraxis": {
           "colorbar": {
            "outlinewidth": 0,
            "ticks": ""
           }
          },
          "colorscale": {
           "diverging": [
            [
             0,
             "#8e0152"
            ],
            [
             0.1,
             "#c51b7d"
            ],
            [
             0.2,
             "#de77ae"
            ],
            [
             0.3,
             "#f1b6da"
            ],
            [
             0.4,
             "#fde0ef"
            ],
            [
             0.5,
             "#f7f7f7"
            ],
            [
             0.6,
             "#e6f5d0"
            ],
            [
             0.7,
             "#b8e186"
            ],
            [
             0.8,
             "#7fbc41"
            ],
            [
             0.9,
             "#4d9221"
            ],
            [
             1,
             "#276419"
            ]
           ],
           "sequential": [
            [
             0,
             "#0d0887"
            ],
            [
             0.1111111111111111,
             "#46039f"
            ],
            [
             0.2222222222222222,
             "#7201a8"
            ],
            [
             0.3333333333333333,
             "#9c179e"
            ],
            [
             0.4444444444444444,
             "#bd3786"
            ],
            [
             0.5555555555555556,
             "#d8576b"
            ],
            [
             0.6666666666666666,
             "#ed7953"
            ],
            [
             0.7777777777777778,
             "#fb9f3a"
            ],
            [
             0.8888888888888888,
             "#fdca26"
            ],
            [
             1,
             "#f0f921"
            ]
           ],
           "sequentialminus": [
            [
             0,
             "#0d0887"
            ],
            [
             0.1111111111111111,
             "#46039f"
            ],
            [
             0.2222222222222222,
             "#7201a8"
            ],
            [
             0.3333333333333333,
             "#9c179e"
            ],
            [
             0.4444444444444444,
             "#bd3786"
            ],
            [
             0.5555555555555556,
             "#d8576b"
            ],
            [
             0.6666666666666666,
             "#ed7953"
            ],
            [
             0.7777777777777778,
             "#fb9f3a"
            ],
            [
             0.8888888888888888,
             "#fdca26"
            ],
            [
             1,
             "#f0f921"
            ]
           ]
          },
          "colorway": [
           "#636efa",
           "#EF553B",
           "#00cc96",
           "#ab63fa",
           "#FFA15A",
           "#19d3f3",
           "#FF6692",
           "#B6E880",
           "#FF97FF",
           "#FECB52"
          ],
          "font": {
           "color": "#2a3f5f"
          },
          "geo": {
           "bgcolor": "white",
           "lakecolor": "white",
           "landcolor": "#E5ECF6",
           "showlakes": true,
           "showland": true,
           "subunitcolor": "white"
          },
          "hoverlabel": {
           "align": "left"
          },
          "hovermode": "closest",
          "mapbox": {
           "style": "light"
          },
          "paper_bgcolor": "white",
          "plot_bgcolor": "#E5ECF6",
          "polar": {
           "angularaxis": {
            "gridcolor": "white",
            "linecolor": "white",
            "ticks": ""
           },
           "bgcolor": "#E5ECF6",
           "radialaxis": {
            "gridcolor": "white",
            "linecolor": "white",
            "ticks": ""
           }
          },
          "scene": {
           "xaxis": {
            "backgroundcolor": "#E5ECF6",
            "gridcolor": "white",
            "gridwidth": 2,
            "linecolor": "white",
            "showbackground": true,
            "ticks": "",
            "zerolinecolor": "white"
           },
           "yaxis": {
            "backgroundcolor": "#E5ECF6",
            "gridcolor": "white",
            "gridwidth": 2,
            "linecolor": "white",
            "showbackground": true,
            "ticks": "",
            "zerolinecolor": "white"
           },
           "zaxis": {
            "backgroundcolor": "#E5ECF6",
            "gridcolor": "white",
            "gridwidth": 2,
            "linecolor": "white",
            "showbackground": true,
            "ticks": "",
            "zerolinecolor": "white"
           }
          },
          "shapedefaults": {
           "line": {
            "color": "#2a3f5f"
           }
          },
          "ternary": {
           "aaxis": {
            "gridcolor": "white",
            "linecolor": "white",
            "ticks": ""
           },
           "baxis": {
            "gridcolor": "white",
            "linecolor": "white",
            "ticks": ""
           },
           "bgcolor": "#E5ECF6",
           "caxis": {
            "gridcolor": "white",
            "linecolor": "white",
            "ticks": ""
           }
          },
          "title": {
           "x": 0.05
          },
          "xaxis": {
           "automargin": true,
           "gridcolor": "white",
           "linecolor": "white",
           "ticks": "",
           "title": {
            "standoff": 15
           },
           "zerolinecolor": "white",
           "zerolinewidth": 2
          },
          "yaxis": {
           "automargin": true,
           "gridcolor": "white",
           "linecolor": "white",
           "ticks": "",
           "title": {
            "standoff": 15
           },
           "zerolinecolor": "white",
           "zerolinewidth": 2
          }
         }
        }
       }
      }
     },
     "metadata": {}
    }
   ],
   "source": [
    "fig = go.Figure(data=[\n",
    "    go.Candlestick(x=romania.index,\n",
    "        open=romania[\"Open\"],\n",
    "        high=romania[\"High\"],\n",
    "        low=romania[\"Low\"],\n",
    "        close=romania[\"Close\"]\n",
    "    )\n",
    "])\n",
    "fig.show()"
   ]
  },
  {
   "cell_type": "code",
   "execution_count": 6,
   "metadata": {},
   "outputs": [
    {
     "output_type": "display_data",
     "data": {
      "application/vnd.plotly.v1+json": {
       "config": {
        "plotlyServerURL": "https://plot.ly"
       },
       "data": [
        {
         "close": [
          0,
          0.01,
          0.026,
          0.218,
          0.136,
          0.36,
          0.246,
          0.306,
          0.277,
          0.325,
          0.19,
          0.155,
          0.146,
          0.119,
          0.145,
          0.25,
          0.214,
          0.388,
          0.397,
          0.637,
          0.994,
          1.151,
          1.232,
          1.215,
          1.014,
          1.06,
          1.053,
          1.136,
          1.111,
          1.059,
          1.47,
          2.121,
          3.109,
          3.4,
          4.724,
          7.733,
          7.304,
          8.262,
          7.753,
          4.272,
          7.439,
          6.171,
          5.009,
          4.637,
          4.729,
          3.697,
          2.745,
          2.877,
          2.676,
          2.797,
          2.676
         ],
         "high": [
          0.002,
          0.01,
          0.04,
          0.218,
          0.363,
          0.445,
          0.523,
          0.491,
          0.468,
          0.431,
          0.392,
          0.267,
          0.213,
          0.197,
          0.238,
          0.32,
          0.345,
          0.46,
          0.45,
          0.698,
          0.994,
          1.284,
          1.356,
          1.378,
          1.454,
          1.409,
          1.504,
          1.365,
          1.391,
          1.713,
          1.767,
          2.343,
          3.517,
          4.026,
          5.028,
          7.733,
          10.26,
          10.142,
          10.269,
          9.739,
          8.072,
          7.365,
          5.991,
          5.459,
          4.875,
          5.719,
          4.424,
          3,
          3.174,
          2.797,
          3.048
         ],
         "low": [
          0,
          0,
          0.004,
          0.017,
          0.112,
          0.193,
          0.246,
          0.19,
          0.218,
          0.165,
          0.19,
          0.155,
          0.127,
          0.119,
          0.125,
          0.166,
          0.214,
          0.269,
          0.25,
          0.413,
          0.641,
          1.03,
          0.823,
          0.779,
          0.733,
          0.825,
          0.755,
          0.883,
          0.692,
          0.808,
          1.271,
          1.591,
          2.069,
          2.466,
          2.844,
          4.041,
          3.24,
          4.931,
          4.207,
          3.826,
          3.66,
          3.252,
          2.489,
          1.387,
          1.194,
          1.987,
          1.509,
          1.551,
          1.313,
          1.319,
          1.331
         ],
         "open": [
          0,
          0.001,
          0.02,
          0.076,
          0.112,
          0.215,
          0.344,
          0.337,
          0.468,
          0.362,
          0.27,
          0.224,
          0.196,
          0.165,
          0.152,
          0.196,
          0.345,
          0.321,
          0.326,
          0.555,
          0.641,
          1.03,
          1.182,
          1.309,
          1.415,
          1.409,
          1.256,
          1.298,
          1.271,
          1.713,
          1.767,
          2.158,
          2.958,
          4.016,
          4.848,
          5.343,
          8.651,
          9.799,
          10.269,
          9.739,
          4.916,
          7.365,
          5.991,
          5.459,
          4.875,
          5.719,
          4.424,
          3,
          3.174,
          2.752,
          3.048
         ],
         "type": "candlestick"
        },
        {
         "line": {
          "color": "green",
          "width": 2
         },
         "type": "scatter",
         "x": [
          1,
          2,
          3,
          4,
          5,
          6,
          7,
          8,
          9,
          10,
          11,
          12,
          13,
          14,
          15,
          16,
          17,
          18,
          19,
          20,
          21,
          22,
          23,
          24,
          25,
          26,
          27,
          28,
          29,
          30,
          31,
          32,
          33,
          34,
          35,
          36,
          37,
          38,
          39,
          40,
          41,
          42,
          43,
          44,
          45,
          46,
          47,
          48,
          49,
          50,
          51,
          52
         ],
         "y": [
          0.001,
          0.02,
          0.076,
          0.112,
          0.215,
          0.344,
          0.337,
          0.468,
          0.362,
          0.27,
          0.224,
          0.196,
          0.165,
          0.152,
          0.196,
          0.345,
          0.321,
          0.326,
          0.555,
          0.641,
          1.03,
          1.182,
          1.309,
          1.415,
          1.409,
          1.256,
          1.298,
          1.271,
          1.713,
          1.767,
          2.158,
          2.958,
          4.016,
          4.848,
          5.343,
          8.651,
          9.799,
          10.269,
          9.739,
          4.916,
          7.365,
          5.991,
          5.459,
          4.875,
          5.719,
          4.424,
          3,
          3.174,
          2.752,
          3.048,
          2.815
         ]
        }
       ],
       "layout": {
        "template": {
         "data": {
          "bar": [
           {
            "error_x": {
             "color": "#2a3f5f"
            },
            "error_y": {
             "color": "#2a3f5f"
            },
            "marker": {
             "line": {
              "color": "#E5ECF6",
              "width": 0.5
             }
            },
            "type": "bar"
           }
          ],
          "barpolar": [
           {
            "marker": {
             "line": {
              "color": "#E5ECF6",
              "width": 0.5
             }
            },
            "type": "barpolar"
           }
          ],
          "carpet": [
           {
            "aaxis": {
             "endlinecolor": "#2a3f5f",
             "gridcolor": "white",
             "linecolor": "white",
             "minorgridcolor": "white",
             "startlinecolor": "#2a3f5f"
            },
            "baxis": {
             "endlinecolor": "#2a3f5f",
             "gridcolor": "white",
             "linecolor": "white",
             "minorgridcolor": "white",
             "startlinecolor": "#2a3f5f"
            },
            "type": "carpet"
           }
          ],
          "choropleth": [
           {
            "colorbar": {
             "outlinewidth": 0,
             "ticks": ""
            },
            "type": "choropleth"
           }
          ],
          "contour": [
           {
            "colorbar": {
             "outlinewidth": 0,
             "ticks": ""
            },
            "colorscale": [
             [
              0,
              "#0d0887"
             ],
             [
              0.1111111111111111,
              "#46039f"
             ],
             [
              0.2222222222222222,
              "#7201a8"
             ],
             [
              0.3333333333333333,
              "#9c179e"
             ],
             [
              0.4444444444444444,
              "#bd3786"
             ],
             [
              0.5555555555555556,
              "#d8576b"
             ],
             [
              0.6666666666666666,
              "#ed7953"
             ],
             [
              0.7777777777777778,
              "#fb9f3a"
             ],
             [
              0.8888888888888888,
              "#fdca26"
             ],
             [
              1,
              "#f0f921"
             ]
            ],
            "type": "contour"
           }
          ],
          "contourcarpet": [
           {
            "colorbar": {
             "outlinewidth": 0,
             "ticks": ""
            },
            "type": "contourcarpet"
           }
          ],
          "heatmap": [
           {
            "colorbar": {
             "outlinewidth": 0,
             "ticks": ""
            },
            "colorscale": [
             [
              0,
              "#0d0887"
             ],
             [
              0.1111111111111111,
              "#46039f"
             ],
             [
              0.2222222222222222,
              "#7201a8"
             ],
             [
              0.3333333333333333,
              "#9c179e"
             ],
             [
              0.4444444444444444,
              "#bd3786"
             ],
             [
              0.5555555555555556,
              "#d8576b"
             ],
             [
              0.6666666666666666,
              "#ed7953"
             ],
             [
              0.7777777777777778,
              "#fb9f3a"
             ],
             [
              0.8888888888888888,
              "#fdca26"
             ],
             [
              1,
              "#f0f921"
             ]
            ],
            "type": "heatmap"
           }
          ],
          "heatmapgl": [
           {
            "colorbar": {
             "outlinewidth": 0,
             "ticks": ""
            },
            "colorscale": [
             [
              0,
              "#0d0887"
             ],
             [
              0.1111111111111111,
              "#46039f"
             ],
             [
              0.2222222222222222,
              "#7201a8"
             ],
             [
              0.3333333333333333,
              "#9c179e"
             ],
             [
              0.4444444444444444,
              "#bd3786"
             ],
             [
              0.5555555555555556,
              "#d8576b"
             ],
             [
              0.6666666666666666,
              "#ed7953"
             ],
             [
              0.7777777777777778,
              "#fb9f3a"
             ],
             [
              0.8888888888888888,
              "#fdca26"
             ],
             [
              1,
              "#f0f921"
             ]
            ],
            "type": "heatmapgl"
           }
          ],
          "histogram": [
           {
            "marker": {
             "colorbar": {
              "outlinewidth": 0,
              "ticks": ""
             }
            },
            "type": "histogram"
           }
          ],
          "histogram2d": [
           {
            "colorbar": {
             "outlinewidth": 0,
             "ticks": ""
            },
            "colorscale": [
             [
              0,
              "#0d0887"
             ],
             [
              0.1111111111111111,
              "#46039f"
             ],
             [
              0.2222222222222222,
              "#7201a8"
             ],
             [
              0.3333333333333333,
              "#9c179e"
             ],
             [
              0.4444444444444444,
              "#bd3786"
             ],
             [
              0.5555555555555556,
              "#d8576b"
             ],
             [
              0.6666666666666666,
              "#ed7953"
             ],
             [
              0.7777777777777778,
              "#fb9f3a"
             ],
             [
              0.8888888888888888,
              "#fdca26"
             ],
             [
              1,
              "#f0f921"
             ]
            ],
            "type": "histogram2d"
           }
          ],
          "histogram2dcontour": [
           {
            "colorbar": {
             "outlinewidth": 0,
             "ticks": ""
            },
            "colorscale": [
             [
              0,
              "#0d0887"
             ],
             [
              0.1111111111111111,
              "#46039f"
             ],
             [
              0.2222222222222222,
              "#7201a8"
             ],
             [
              0.3333333333333333,
              "#9c179e"
             ],
             [
              0.4444444444444444,
              "#bd3786"
             ],
             [
              0.5555555555555556,
              "#d8576b"
             ],
             [
              0.6666666666666666,
              "#ed7953"
             ],
             [
              0.7777777777777778,
              "#fb9f3a"
             ],
             [
              0.8888888888888888,
              "#fdca26"
             ],
             [
              1,
              "#f0f921"
             ]
            ],
            "type": "histogram2dcontour"
           }
          ],
          "mesh3d": [
           {
            "colorbar": {
             "outlinewidth": 0,
             "ticks": ""
            },
            "type": "mesh3d"
           }
          ],
          "parcoords": [
           {
            "line": {
             "colorbar": {
              "outlinewidth": 0,
              "ticks": ""
             }
            },
            "type": "parcoords"
           }
          ],
          "pie": [
           {
            "automargin": true,
            "type": "pie"
           }
          ],
          "scatter": [
           {
            "marker": {
             "colorbar": {
              "outlinewidth": 0,
              "ticks": ""
             }
            },
            "type": "scatter"
           }
          ],
          "scatter3d": [
           {
            "line": {
             "colorbar": {
              "outlinewidth": 0,
              "ticks": ""
             }
            },
            "marker": {
             "colorbar": {
              "outlinewidth": 0,
              "ticks": ""
             }
            },
            "type": "scatter3d"
           }
          ],
          "scattercarpet": [
           {
            "marker": {
             "colorbar": {
              "outlinewidth": 0,
              "ticks": ""
             }
            },
            "type": "scattercarpet"
           }
          ],
          "scattergeo": [
           {
            "marker": {
             "colorbar": {
              "outlinewidth": 0,
              "ticks": ""
             }
            },
            "type": "scattergeo"
           }
          ],
          "scattergl": [
           {
            "marker": {
             "colorbar": {
              "outlinewidth": 0,
              "ticks": ""
             }
            },
            "type": "scattergl"
           }
          ],
          "scattermapbox": [
           {
            "marker": {
             "colorbar": {
              "outlinewidth": 0,
              "ticks": ""
             }
            },
            "type": "scattermapbox"
           }
          ],
          "scatterpolar": [
           {
            "marker": {
             "colorbar": {
              "outlinewidth": 0,
              "ticks": ""
             }
            },
            "type": "scatterpolar"
           }
          ],
          "scatterpolargl": [
           {
            "marker": {
             "colorbar": {
              "outlinewidth": 0,
              "ticks": ""
             }
            },
            "type": "scatterpolargl"
           }
          ],
          "scatterternary": [
           {
            "marker": {
             "colorbar": {
              "outlinewidth": 0,
              "ticks": ""
             }
            },
            "type": "scatterternary"
           }
          ],
          "surface": [
           {
            "colorbar": {
             "outlinewidth": 0,
             "ticks": ""
            },
            "colorscale": [
             [
              0,
              "#0d0887"
             ],
             [
              0.1111111111111111,
              "#46039f"
             ],
             [
              0.2222222222222222,
              "#7201a8"
             ],
             [
              0.3333333333333333,
              "#9c179e"
             ],
             [
              0.4444444444444444,
              "#bd3786"
             ],
             [
              0.5555555555555556,
              "#d8576b"
             ],
             [
              0.6666666666666666,
              "#ed7953"
             ],
             [
              0.7777777777777778,
              "#fb9f3a"
             ],
             [
              0.8888888888888888,
              "#fdca26"
             ],
             [
              1,
              "#f0f921"
             ]
            ],
            "type": "surface"
           }
          ],
          "table": [
           {
            "cells": {
             "fill": {
              "color": "#EBF0F8"
             },
             "line": {
              "color": "white"
             }
            },
            "header": {
             "fill": {
              "color": "#C8D4E3"
             },
             "line": {
              "color": "white"
             }
            },
            "type": "table"
           }
          ]
         },
         "layout": {
          "annotationdefaults": {
           "arrowcolor": "#2a3f5f",
           "arrowhead": 0,
           "arrowwidth": 1
          },
          "autotypenumbers": "strict",
          "coloraxis": {
           "colorbar": {
            "outlinewidth": 0,
            "ticks": ""
           }
          },
          "colorscale": {
           "diverging": [
            [
             0,
             "#8e0152"
            ],
            [
             0.1,
             "#c51b7d"
            ],
            [
             0.2,
             "#de77ae"
            ],
            [
             0.3,
             "#f1b6da"
            ],
            [
             0.4,
             "#fde0ef"
            ],
            [
             0.5,
             "#f7f7f7"
            ],
            [
             0.6,
             "#e6f5d0"
            ],
            [
             0.7,
             "#b8e186"
            ],
            [
             0.8,
             "#7fbc41"
            ],
            [
             0.9,
             "#4d9221"
            ],
            [
             1,
             "#276419"
            ]
           ],
           "sequential": [
            [
             0,
             "#0d0887"
            ],
            [
             0.1111111111111111,
             "#46039f"
            ],
            [
             0.2222222222222222,
             "#7201a8"
            ],
            [
             0.3333333333333333,
             "#9c179e"
            ],
            [
             0.4444444444444444,
             "#bd3786"
            ],
            [
             0.5555555555555556,
             "#d8576b"
            ],
            [
             0.6666666666666666,
             "#ed7953"
            ],
            [
             0.7777777777777778,
             "#fb9f3a"
            ],
            [
             0.8888888888888888,
             "#fdca26"
            ],
            [
             1,
             "#f0f921"
            ]
           ],
           "sequentialminus": [
            [
             0,
             "#0d0887"
            ],
            [
             0.1111111111111111,
             "#46039f"
            ],
            [
             0.2222222222222222,
             "#7201a8"
            ],
            [
             0.3333333333333333,
             "#9c179e"
            ],
            [
             0.4444444444444444,
             "#bd3786"
            ],
            [
             0.5555555555555556,
             "#d8576b"
            ],
            [
             0.6666666666666666,
             "#ed7953"
            ],
            [
             0.7777777777777778,
             "#fb9f3a"
            ],
            [
             0.8888888888888888,
             "#fdca26"
            ],
            [
             1,
             "#f0f921"
            ]
           ]
          },
          "colorway": [
           "#636efa",
           "#EF553B",
           "#00cc96",
           "#ab63fa",
           "#FFA15A",
           "#19d3f3",
           "#FF6692",
           "#B6E880",
           "#FF97FF",
           "#FECB52"
          ],
          "font": {
           "color": "#2a3f5f"
          },
          "geo": {
           "bgcolor": "white",
           "lakecolor": "white",
           "landcolor": "#E5ECF6",
           "showlakes": true,
           "showland": true,
           "subunitcolor": "white"
          },
          "hoverlabel": {
           "align": "left"
          },
          "hovermode": "closest",
          "mapbox": {
           "style": "light"
          },
          "paper_bgcolor": "white",
          "plot_bgcolor": "#E5ECF6",
          "polar": {
           "angularaxis": {
            "gridcolor": "white",
            "linecolor": "white",
            "ticks": ""
           },
           "bgcolor": "#E5ECF6",
           "radialaxis": {
            "gridcolor": "white",
            "linecolor": "white",
            "ticks": ""
           }
          },
          "scene": {
           "xaxis": {
            "backgroundcolor": "#E5ECF6",
            "gridcolor": "white",
            "gridwidth": 2,
            "linecolor": "white",
            "showbackground": true,
            "ticks": "",
            "zerolinecolor": "white"
           },
           "yaxis": {
            "backgroundcolor": "#E5ECF6",
            "gridcolor": "white",
            "gridwidth": 2,
            "linecolor": "white",
            "showbackground": true,
            "ticks": "",
            "zerolinecolor": "white"
           },
           "zaxis": {
            "backgroundcolor": "#E5ECF6",
            "gridcolor": "white",
            "gridwidth": 2,
            "linecolor": "white",
            "showbackground": true,
            "ticks": "",
            "zerolinecolor": "white"
           }
          },
          "shapedefaults": {
           "line": {
            "color": "#2a3f5f"
           }
          },
          "ternary": {
           "aaxis": {
            "gridcolor": "white",
            "linecolor": "white",
            "ticks": ""
           },
           "baxis": {
            "gridcolor": "white",
            "linecolor": "white",
            "ticks": ""
           },
           "bgcolor": "#E5ECF6",
           "caxis": {
            "gridcolor": "white",
            "linecolor": "white",
            "ticks": ""
           }
          },
          "title": {
           "x": 0.05
          },
          "xaxis": {
           "automargin": true,
           "gridcolor": "white",
           "linecolor": "white",
           "ticks": "",
           "title": {
            "standoff": 15
           },
           "zerolinecolor": "white",
           "zerolinewidth": 2
          },
          "yaxis": {
           "automargin": true,
           "gridcolor": "white",
           "linecolor": "white",
           "ticks": "",
           "title": {
            "standoff": 15
           },
           "zerolinecolor": "white",
           "zerolinewidth": 2
          }
         }
        }
       }
      }
     },
     "metadata": {}
    }
   ],
   "source": [
    "X = [np.array(romania.iloc[0,])]\n",
    "y = [[romania.iloc[1,0]]]\n",
    "for i in range(1, len(romania.index)-1):\n",
    "    week = romania.iloc[i,]\n",
    "    week_open = romania.iloc[i+1,0]\n",
    "    X.append(np.array(week))\n",
    "    y.append([week_open])\n",
    "X = np.array(X)\n",
    "y = np.array(y)\n",
    "\n",
    "fig = go.Figure()\n",
    "fig.add_trace(go.Candlestick(\n",
    "    open=X[:,0],\n",
    "    high=X[:,1],\n",
    "    low=X[:,2],\n",
    "    close=X[:,3]\n",
    "))\n",
    "fig.add_trace(go.Scatter(x=romania.index+1, y=y.flatten(), line=dict(color='green', width=2)))\n",
    "fig.show()"
   ]
  },
  {
   "source": [
    "## Regresie polinomiala multipla \n",
    "# y = epsilon+\n",
    "# theta(1,0)*X0+theta(1,1)*X1+theta(1,2)*X2+theta(1,3)*X3+\n",
    "# theta(2,0)*X0*X0+theta(2,1)*X1*X1+theta(2,2)*X2*X2+\n",
    "# theta(2,3)*X3*X3"
   ],
   "cell_type": "code",
   "metadata": {},
   "execution_count": null,
   "outputs": []
  },
  {
   "cell_type": "code",
   "execution_count": 7,
   "metadata": {},
   "outputs": [],
   "source": [
    "from sklearn.linear_model import LinearRegression, ElasticNetCV\n",
    "from sklearn.metrics import mean_squared_error, r2_score"
   ]
  },
  {
   "cell_type": "code",
   "execution_count": 8,
   "metadata": {},
   "outputs": [
    {
     "output_type": "stream",
     "name": "stdout",
     "text": [
      "coeficienti [[ 1.38088675 -1.79056495  0.95514765  1.02853021 -0.08344871  0.11444741\n  -0.15316688  0.0161841 ]]\nnp-shape(reg2.coef_)= (1, 8)\nInterceptie [0.172307]\nMSE:  0.10883889763441772\nRMSE:  0.32990740766829973\nCoef determinare:  0.9862915114344368\n"
     ]
    }
   ],
   "source": [
    "X2 = np.power(X, 2)\n",
    "Xnou = np.hstack((X, X2))\n",
    "\n",
    "reg2 = LinearRegression()\n",
    "reg2.fit(Xnou, y)\n",
    "print('coeficienti',reg2.coef_)     \n",
    "print('np-shape(reg2.coef_)=',np.shape(reg2.coef_) )           \n",
    "print('Interceptie',reg2.intercept_)\n",
    "\n",
    "y_pred = reg2.predict(Xnou)\n",
    "print('MSE: ', mean_squared_error(y, y_pred))\n",
    "print('RMSE: ', np.sqrt(mean_squared_error(y, y_pred)))\n",
    "print('Coef determinare: ', r2_score(y, y_pred))\n",
    "\n",
    "concluzii = concluzii.append({\"Model_Regresie\":\"Regresie polinomiala multipla\", \"Theta_0\":reg2.coef_[0][0], \"Theta_1\":reg2.coef_[0][1], \"Theta_2\":reg2.coef_[0][2], \"Theta_3\":reg2.coef_[0][3], \"Intercept\":reg2.intercept_[0], \"MSE\":mean_squared_error(y, y_pred), \"Coef_Det\":r2_score(y, y_pred)}, ignore_index=True)"
   ]
  },
  {
   "cell_type": "code",
   "execution_count": 9,
   "metadata": {},
   "outputs": [
    {
     "output_type": "execute_result",
     "data": {
      "text/plain": [
       "(3.0797930633927812, array([2.815]))"
      ]
     },
     "metadata": {},
     "execution_count": 9
    }
   ],
   "source": [
    "# ecuația dreaptei de regresie\n",
    "((Xnou[-1]*reg2.coef_).sum()+reg2.intercept_)[0], y[-1]"
   ]
  },
  {
   "cell_type": "code",
   "execution_count": 10,
   "metadata": {},
   "outputs": [
    {
     "output_type": "display_data",
     "data": {
      "application/vnd.plotly.v1+json": {
       "config": {
        "plotlyServerURL": "https://plot.ly"
       },
       "data": [
        {
         "close": [
          0,
          0.01,
          0.026,
          0.218,
          0.136,
          0.36,
          0.246,
          0.306,
          0.277,
          0.325,
          0.19,
          0.155,
          0.146,
          0.119,
          0.145,
          0.25,
          0.214,
          0.388,
          0.397,
          0.637,
          0.994,
          1.151,
          1.232,
          1.215,
          1.014,
          1.06,
          1.053,
          1.136,
          1.111,
          1.059,
          1.47,
          2.121,
          3.109,
          3.4,
          4.724,
          7.733,
          7.304,
          8.262,
          7.753,
          4.272,
          7.439,
          6.171,
          5.009,
          4.637,
          4.729,
          3.697,
          2.745,
          2.877,
          2.676,
          2.797,
          2.676
         ],
         "high": [
          0.002,
          0.01,
          0.04,
          0.218,
          0.363,
          0.445,
          0.523,
          0.491,
          0.468,
          0.431,
          0.392,
          0.267,
          0.213,
          0.197,
          0.238,
          0.32,
          0.345,
          0.46,
          0.45,
          0.698,
          0.994,
          1.284,
          1.356,
          1.378,
          1.454,
          1.409,
          1.504,
          1.365,
          1.391,
          1.713,
          1.767,
          2.343,
          3.517,
          4.026,
          5.028,
          7.733,
          10.26,
          10.142,
          10.269,
          9.739,
          8.072,
          7.365,
          5.991,
          5.459,
          4.875,
          5.719,
          4.424,
          3,
          3.174,
          2.797,
          3.048
         ],
         "low": [
          0,
          0,
          0.004,
          0.017,
          0.112,
          0.193,
          0.246,
          0.19,
          0.218,
          0.165,
          0.19,
          0.155,
          0.127,
          0.119,
          0.125,
          0.166,
          0.214,
          0.269,
          0.25,
          0.413,
          0.641,
          1.03,
          0.823,
          0.779,
          0.733,
          0.825,
          0.755,
          0.883,
          0.692,
          0.808,
          1.271,
          1.591,
          2.069,
          2.466,
          2.844,
          4.041,
          3.24,
          4.931,
          4.207,
          3.826,
          3.66,
          3.252,
          2.489,
          1.387,
          1.194,
          1.987,
          1.509,
          1.551,
          1.313,
          1.319,
          1.331
         ],
         "open": [
          0,
          0.001,
          0.02,
          0.076,
          0.112,
          0.215,
          0.344,
          0.337,
          0.468,
          0.362,
          0.27,
          0.224,
          0.196,
          0.165,
          0.152,
          0.196,
          0.345,
          0.321,
          0.326,
          0.555,
          0.641,
          1.03,
          1.182,
          1.309,
          1.415,
          1.409,
          1.256,
          1.298,
          1.271,
          1.713,
          1.767,
          2.158,
          2.958,
          4.016,
          4.848,
          5.343,
          8.651,
          9.799,
          10.269,
          9.739,
          4.916,
          7.365,
          5.991,
          5.459,
          4.875,
          5.719,
          4.424,
          3,
          3.174,
          2.752,
          3.048
         ],
         "type": "candlestick"
        },
        {
         "line": {
          "color": "green",
          "width": 2
         },
         "type": "scatter",
         "x": [
          1,
          2,
          3,
          4,
          5,
          6,
          7,
          8,
          9,
          10,
          11,
          12,
          13,
          14,
          15,
          16,
          17,
          18,
          19,
          20,
          21,
          22,
          23,
          24,
          25,
          26,
          27,
          28,
          29,
          30,
          31,
          32,
          33,
          34,
          35,
          36,
          37,
          38,
          39,
          40,
          41,
          42,
          43,
          44,
          45,
          46,
          47,
          48,
          49,
          50,
          51,
          52
         ],
         "y": [
          0.001,
          0.02,
          0.076,
          0.112,
          0.215,
          0.344,
          0.337,
          0.468,
          0.362,
          0.27,
          0.224,
          0.196,
          0.165,
          0.152,
          0.196,
          0.345,
          0.321,
          0.326,
          0.555,
          0.641,
          1.03,
          1.182,
          1.309,
          1.415,
          1.409,
          1.256,
          1.298,
          1.271,
          1.713,
          1.767,
          2.158,
          2.958,
          4.016,
          4.848,
          5.343,
          8.651,
          9.799,
          10.269,
          9.739,
          4.916,
          7.365,
          5.991,
          5.459,
          4.875,
          5.719,
          4.424,
          3,
          3.174,
          2.752,
          3.048,
          2.815
         ]
        },
        {
         "line": {
          "color": "yellow",
          "width": 2
         },
         "type": "scatter",
         "x": [
          1,
          2,
          3,
          4,
          5,
          6,
          7,
          8,
          9,
          10,
          11,
          12,
          13,
          14,
          15,
          16,
          17,
          18,
          19,
          20,
          21,
          22,
          23,
          24,
          25,
          26,
          27,
          28,
          29,
          30,
          31,
          32,
          33,
          34,
          35,
          36,
          37,
          38,
          39,
          40,
          41,
          42,
          43,
          44,
          45,
          46,
          47,
          48,
          49,
          50,
          51,
          52
         ],
         "y": [
          0.16872632789098538,
          0.16608051904500437,
          0.15902273914052778,
          0.13305019653485367,
          -0.06374025988179965,
          0.24220879854509358,
          0.21199137552107555,
          0.26880674135736266,
          0.47445480397727663,
          0.40019008009053364,
          0.22670171255176652,
          0.3116955658643971,
          0.3329007810600148,
          0.2836995688414816,
          0.22707946256415362,
          0.2909715699973918,
          0.45289143936253223,
          0.45488775292957895,
          0.4711200939970379,
          0.7490309663584706,
          0.9440903055311133,
          1.4222749522638922,
          1.4444154278150432,
          1.5114914896576819,
          1.2750507317261068,
          1.4487856298351511,
          1.0757445177086478,
          1.5064920809765556,
          1.2736633756811049,
          1.340615684338834,
          2.0586647613057534,
          2.582875942577962,
          3.3196933748860156,
          4.126345894561328,
          5.4934206785742745,
          8.445562804282973,
          9.412056077762626,
          9.891078294860364,
          9.488641602707524,
          5.224156169514205,
          7.938589327962364,
          7.286190427949428,
          5.8169762127467095,
          5.007069630886077,
          5.059766942108929,
          4.160057762660859,
          3.0043977421676633,
          3.4282756287223113,
          3.0425725853725836,
          3.2244206437154617,
          3.079793063392781
         ]
        }
       ],
       "layout": {
        "template": {
         "data": {
          "bar": [
           {
            "error_x": {
             "color": "#2a3f5f"
            },
            "error_y": {
             "color": "#2a3f5f"
            },
            "marker": {
             "line": {
              "color": "#E5ECF6",
              "width": 0.5
             }
            },
            "type": "bar"
           }
          ],
          "barpolar": [
           {
            "marker": {
             "line": {
              "color": "#E5ECF6",
              "width": 0.5
             }
            },
            "type": "barpolar"
           }
          ],
          "carpet": [
           {
            "aaxis": {
             "endlinecolor": "#2a3f5f",
             "gridcolor": "white",
             "linecolor": "white",
             "minorgridcolor": "white",
             "startlinecolor": "#2a3f5f"
            },
            "baxis": {
             "endlinecolor": "#2a3f5f",
             "gridcolor": "white",
             "linecolor": "white",
             "minorgridcolor": "white",
             "startlinecolor": "#2a3f5f"
            },
            "type": "carpet"
           }
          ],
          "choropleth": [
           {
            "colorbar": {
             "outlinewidth": 0,
             "ticks": ""
            },
            "type": "choropleth"
           }
          ],
          "contour": [
           {
            "colorbar": {
             "outlinewidth": 0,
             "ticks": ""
            },
            "colorscale": [
             [
              0,
              "#0d0887"
             ],
             [
              0.1111111111111111,
              "#46039f"
             ],
             [
              0.2222222222222222,
              "#7201a8"
             ],
             [
              0.3333333333333333,
              "#9c179e"
             ],
             [
              0.4444444444444444,
              "#bd3786"
             ],
             [
              0.5555555555555556,
              "#d8576b"
             ],
             [
              0.6666666666666666,
              "#ed7953"
             ],
             [
              0.7777777777777778,
              "#fb9f3a"
             ],
             [
              0.8888888888888888,
              "#fdca26"
             ],
             [
              1,
              "#f0f921"
             ]
            ],
            "type": "contour"
           }
          ],
          "contourcarpet": [
           {
            "colorbar": {
             "outlinewidth": 0,
             "ticks": ""
            },
            "type": "contourcarpet"
           }
          ],
          "heatmap": [
           {
            "colorbar": {
             "outlinewidth": 0,
             "ticks": ""
            },
            "colorscale": [
             [
              0,
              "#0d0887"
             ],
             [
              0.1111111111111111,
              "#46039f"
             ],
             [
              0.2222222222222222,
              "#7201a8"
             ],
             [
              0.3333333333333333,
              "#9c179e"
             ],
             [
              0.4444444444444444,
              "#bd3786"
             ],
             [
              0.5555555555555556,
              "#d8576b"
             ],
             [
              0.6666666666666666,
              "#ed7953"
             ],
             [
              0.7777777777777778,
              "#fb9f3a"
             ],
             [
              0.8888888888888888,
              "#fdca26"
             ],
             [
              1,
              "#f0f921"
             ]
            ],
            "type": "heatmap"
           }
          ],
          "heatmapgl": [
           {
            "colorbar": {
             "outlinewidth": 0,
             "ticks": ""
            },
            "colorscale": [
             [
              0,
              "#0d0887"
             ],
             [
              0.1111111111111111,
              "#46039f"
             ],
             [
              0.2222222222222222,
              "#7201a8"
             ],
             [
              0.3333333333333333,
              "#9c179e"
             ],
             [
              0.4444444444444444,
              "#bd3786"
             ],
             [
              0.5555555555555556,
              "#d8576b"
             ],
             [
              0.6666666666666666,
              "#ed7953"
             ],
             [
              0.7777777777777778,
              "#fb9f3a"
             ],
             [
              0.8888888888888888,
              "#fdca26"
             ],
             [
              1,
              "#f0f921"
             ]
            ],
            "type": "heatmapgl"
           }
          ],
          "histogram": [
           {
            "marker": {
             "colorbar": {
              "outlinewidth": 0,
              "ticks": ""
             }
            },
            "type": "histogram"
           }
          ],
          "histogram2d": [
           {
            "colorbar": {
             "outlinewidth": 0,
             "ticks": ""
            },
            "colorscale": [
             [
              0,
              "#0d0887"
             ],
             [
              0.1111111111111111,
              "#46039f"
             ],
             [
              0.2222222222222222,
              "#7201a8"
             ],
             [
              0.3333333333333333,
              "#9c179e"
             ],
             [
              0.4444444444444444,
              "#bd3786"
             ],
             [
              0.5555555555555556,
              "#d8576b"
             ],
             [
              0.6666666666666666,
              "#ed7953"
             ],
             [
              0.7777777777777778,
              "#fb9f3a"
             ],
             [
              0.8888888888888888,
              "#fdca26"
             ],
             [
              1,
              "#f0f921"
             ]
            ],
            "type": "histogram2d"
           }
          ],
          "histogram2dcontour": [
           {
            "colorbar": {
             "outlinewidth": 0,
             "ticks": ""
            },
            "colorscale": [
             [
              0,
              "#0d0887"
             ],
             [
              0.1111111111111111,
              "#46039f"
             ],
             [
              0.2222222222222222,
              "#7201a8"
             ],
             [
              0.3333333333333333,
              "#9c179e"
             ],
             [
              0.4444444444444444,
              "#bd3786"
             ],
             [
              0.5555555555555556,
              "#d8576b"
             ],
             [
              0.6666666666666666,
              "#ed7953"
             ],
             [
              0.7777777777777778,
              "#fb9f3a"
             ],
             [
              0.8888888888888888,
              "#fdca26"
             ],
             [
              1,
              "#f0f921"
             ]
            ],
            "type": "histogram2dcontour"
           }
          ],
          "mesh3d": [
           {
            "colorbar": {
             "outlinewidth": 0,
             "ticks": ""
            },
            "type": "mesh3d"
           }
          ],
          "parcoords": [
           {
            "line": {
             "colorbar": {
              "outlinewidth": 0,
              "ticks": ""
             }
            },
            "type": "parcoords"
           }
          ],
          "pie": [
           {
            "automargin": true,
            "type": "pie"
           }
          ],
          "scatter": [
           {
            "marker": {
             "colorbar": {
              "outlinewidth": 0,
              "ticks": ""
             }
            },
            "type": "scatter"
           }
          ],
          "scatter3d": [
           {
            "line": {
             "colorbar": {
              "outlinewidth": 0,
              "ticks": ""
             }
            },
            "marker": {
             "colorbar": {
              "outlinewidth": 0,
              "ticks": ""
             }
            },
            "type": "scatter3d"
           }
          ],
          "scattercarpet": [
           {
            "marker": {
             "colorbar": {
              "outlinewidth": 0,
              "ticks": ""
             }
            },
            "type": "scattercarpet"
           }
          ],
          "scattergeo": [
           {
            "marker": {
             "colorbar": {
              "outlinewidth": 0,
              "ticks": ""
             }
            },
            "type": "scattergeo"
           }
          ],
          "scattergl": [
           {
            "marker": {
             "colorbar": {
              "outlinewidth": 0,
              "ticks": ""
             }
            },
            "type": "scattergl"
           }
          ],
          "scattermapbox": [
           {
            "marker": {
             "colorbar": {
              "outlinewidth": 0,
              "ticks": ""
             }
            },
            "type": "scattermapbox"
           }
          ],
          "scatterpolar": [
           {
            "marker": {
             "colorbar": {
              "outlinewidth": 0,
              "ticks": ""
             }
            },
            "type": "scatterpolar"
           }
          ],
          "scatterpolargl": [
           {
            "marker": {
             "colorbar": {
              "outlinewidth": 0,
              "ticks": ""
             }
            },
            "type": "scatterpolargl"
           }
          ],
          "scatterternary": [
           {
            "marker": {
             "colorbar": {
              "outlinewidth": 0,
              "ticks": ""
             }
            },
            "type": "scatterternary"
           }
          ],
          "surface": [
           {
            "colorbar": {
             "outlinewidth": 0,
             "ticks": ""
            },
            "colorscale": [
             [
              0,
              "#0d0887"
             ],
             [
              0.1111111111111111,
              "#46039f"
             ],
             [
              0.2222222222222222,
              "#7201a8"
             ],
             [
              0.3333333333333333,
              "#9c179e"
             ],
             [
              0.4444444444444444,
              "#bd3786"
             ],
             [
              0.5555555555555556,
              "#d8576b"
             ],
             [
              0.6666666666666666,
              "#ed7953"
             ],
             [
              0.7777777777777778,
              "#fb9f3a"
             ],
             [
              0.8888888888888888,
              "#fdca26"
             ],
             [
              1,
              "#f0f921"
             ]
            ],
            "type": "surface"
           }
          ],
          "table": [
           {
            "cells": {
             "fill": {
              "color": "#EBF0F8"
             },
             "line": {
              "color": "white"
             }
            },
            "header": {
             "fill": {
              "color": "#C8D4E3"
             },
             "line": {
              "color": "white"
             }
            },
            "type": "table"
           }
          ]
         },
         "layout": {
          "annotationdefaults": {
           "arrowcolor": "#2a3f5f",
           "arrowhead": 0,
           "arrowwidth": 1
          },
          "autotypenumbers": "strict",
          "coloraxis": {
           "colorbar": {
            "outlinewidth": 0,
            "ticks": ""
           }
          },
          "colorscale": {
           "diverging": [
            [
             0,
             "#8e0152"
            ],
            [
             0.1,
             "#c51b7d"
            ],
            [
             0.2,
             "#de77ae"
            ],
            [
             0.3,
             "#f1b6da"
            ],
            [
             0.4,
             "#fde0ef"
            ],
            [
             0.5,
             "#f7f7f7"
            ],
            [
             0.6,
             "#e6f5d0"
            ],
            [
             0.7,
             "#b8e186"
            ],
            [
             0.8,
             "#7fbc41"
            ],
            [
             0.9,
             "#4d9221"
            ],
            [
             1,
             "#276419"
            ]
           ],
           "sequential": [
            [
             0,
             "#0d0887"
            ],
            [
             0.1111111111111111,
             "#46039f"
            ],
            [
             0.2222222222222222,
             "#7201a8"
            ],
            [
             0.3333333333333333,
             "#9c179e"
            ],
            [
             0.4444444444444444,
             "#bd3786"
            ],
            [
             0.5555555555555556,
             "#d8576b"
            ],
            [
             0.6666666666666666,
             "#ed7953"
            ],
            [
             0.7777777777777778,
             "#fb9f3a"
            ],
            [
             0.8888888888888888,
             "#fdca26"
            ],
            [
             1,
             "#f0f921"
            ]
           ],
           "sequentialminus": [
            [
             0,
             "#0d0887"
            ],
            [
             0.1111111111111111,
             "#46039f"
            ],
            [
             0.2222222222222222,
             "#7201a8"
            ],
            [
             0.3333333333333333,
             "#9c179e"
            ],
            [
             0.4444444444444444,
             "#bd3786"
            ],
            [
             0.5555555555555556,
             "#d8576b"
            ],
            [
             0.6666666666666666,
             "#ed7953"
            ],
            [
             0.7777777777777778,
             "#fb9f3a"
            ],
            [
             0.8888888888888888,
             "#fdca26"
            ],
            [
             1,
             "#f0f921"
            ]
           ]
          },
          "colorway": [
           "#636efa",
           "#EF553B",
           "#00cc96",
           "#ab63fa",
           "#FFA15A",
           "#19d3f3",
           "#FF6692",
           "#B6E880",
           "#FF97FF",
           "#FECB52"
          ],
          "font": {
           "color": "#2a3f5f"
          },
          "geo": {
           "bgcolor": "white",
           "lakecolor": "white",
           "landcolor": "#E5ECF6",
           "showlakes": true,
           "showland": true,
           "subunitcolor": "white"
          },
          "hoverlabel": {
           "align": "left"
          },
          "hovermode": "closest",
          "mapbox": {
           "style": "light"
          },
          "paper_bgcolor": "white",
          "plot_bgcolor": "#E5ECF6",
          "polar": {
           "angularaxis": {
            "gridcolor": "white",
            "linecolor": "white",
            "ticks": ""
           },
           "bgcolor": "#E5ECF6",
           "radialaxis": {
            "gridcolor": "white",
            "linecolor": "white",
            "ticks": ""
           }
          },
          "scene": {
           "xaxis": {
            "backgroundcolor": "#E5ECF6",
            "gridcolor": "white",
            "gridwidth": 2,
            "linecolor": "white",
            "showbackground": true,
            "ticks": "",
            "zerolinecolor": "white"
           },
           "yaxis": {
            "backgroundcolor": "#E5ECF6",
            "gridcolor": "white",
            "gridwidth": 2,
            "linecolor": "white",
            "showbackground": true,
            "ticks": "",
            "zerolinecolor": "white"
           },
           "zaxis": {
            "backgroundcolor": "#E5ECF6",
            "gridcolor": "white",
            "gridwidth": 2,
            "linecolor": "white",
            "showbackground": true,
            "ticks": "",
            "zerolinecolor": "white"
           }
          },
          "shapedefaults": {
           "line": {
            "color": "#2a3f5f"
           }
          },
          "ternary": {
           "aaxis": {
            "gridcolor": "white",
            "linecolor": "white",
            "ticks": ""
           },
           "baxis": {
            "gridcolor": "white",
            "linecolor": "white",
            "ticks": ""
           },
           "bgcolor": "#E5ECF6",
           "caxis": {
            "gridcolor": "white",
            "linecolor": "white",
            "ticks": ""
           }
          },
          "title": {
           "x": 0.05
          },
          "xaxis": {
           "automargin": true,
           "gridcolor": "white",
           "linecolor": "white",
           "ticks": "",
           "title": {
            "standoff": 15
           },
           "zerolinecolor": "white",
           "zerolinewidth": 2
          },
          "yaxis": {
           "automargin": true,
           "gridcolor": "white",
           "linecolor": "white",
           "ticks": "",
           "title": {
            "standoff": 15
           },
           "zerolinecolor": "white",
           "zerolinewidth": 2
          }
         }
        }
       }
      }
     },
     "metadata": {}
    }
   ],
   "source": [
    "fig = go.Figure()\n",
    "fig.add_trace(go.Candlestick(\n",
    "    open=X[:,0],\n",
    "    high=X[:,1],\n",
    "    low=X[:,2],\n",
    "    close=X[:,3]\n",
    "))\n",
    "fig.add_trace(go.Scatter(x=romania.index+1, y=y.flatten(), line=dict(color='green', width=2)))\n",
    "fig.add_trace(go.Scatter(x=romania.index+1, y=y_pred.flatten(), line=dict(color='yellow', width=2)))\n",
    "fig.show()"
   ]
  },
  {
   "source": [
    "## Modelul de regresie liniara ElasticNet"
   ],
   "cell_type": "markdown",
   "metadata": {}
  },
  {
   "cell_type": "code",
   "execution_count": 11,
   "metadata": {
    "tags": []
   },
   "outputs": [
    {
     "output_type": "stream",
     "name": "stdout",
     "text": [
      "coeficienti [0.09227376 0.05898774 0.03492392 0.96191399]\nnp-shape(regElasticNet.coef_)= (4,)\nInterceptie 0.023508201965069198\nMSE:  0.1550944954659301\nRMSE:  0.39382038477703274\nCoef determinare:  0.9804655213909098\n"
     ]
    }
   ],
   "source": [
    "regElasticNet = ElasticNetCV(cv=5, random_state=0)\n",
    "regElasticNet.fit(X, y.flatten())\n",
    "\n",
    "print('coeficienti',regElasticNet.coef_)     \n",
    "print('np-shape(regElasticNet.coef_)=',np.shape(regElasticNet.coef_) )           \n",
    "print('Interceptie',regElasticNet.intercept_)\n",
    "\n",
    "y_pred = regElasticNet.predict(X)\n",
    "print('MSE: ', mean_squared_error(y, y_pred))\n",
    "print('RMSE: ', np.sqrt(mean_squared_error(y, y_pred)))\n",
    "print('Coef determinare: ', r2_score(y, y_pred))\n",
    "\n",
    "concluzii = concluzii.append({\"Model_Regresie\":\"Regresie ElasticNet\", \"Theta_0\":regElasticNet.coef_[0], \"Theta_1\":regElasticNet.coef_[1], \"Theta_2\":regElasticNet.coef_[2], \"Theta_3\":regElasticNet.coef_[3], \"Intercept\":regElasticNet.intercept_, \"MSE\":mean_squared_error(y, y_pred), \"Coef_Det\":r2_score(y, y_pred)}, ignore_index=True)"
   ]
  },
  {
   "cell_type": "code",
   "execution_count": 12,
   "metadata": {},
   "outputs": [
    {
     "output_type": "display_data",
     "data": {
      "application/vnd.plotly.v1+json": {
       "config": {
        "plotlyServerURL": "https://plot.ly"
       },
       "data": [
        {
         "close": [
          0,
          0.01,
          0.026,
          0.218,
          0.136,
          0.36,
          0.246,
          0.306,
          0.277,
          0.325,
          0.19,
          0.155,
          0.146,
          0.119,
          0.145,
          0.25,
          0.214,
          0.388,
          0.397,
          0.637,
          0.994,
          1.151,
          1.232,
          1.215,
          1.014,
          1.06,
          1.053,
          1.136,
          1.111,
          1.059,
          1.47,
          2.121,
          3.109,
          3.4,
          4.724,
          7.733,
          7.304,
          8.262,
          7.753,
          4.272,
          7.439,
          6.171,
          5.009,
          4.637,
          4.729,
          3.697,
          2.745,
          2.877,
          2.676,
          2.797,
          2.676
         ],
         "high": [
          0.002,
          0.01,
          0.04,
          0.218,
          0.363,
          0.445,
          0.523,
          0.491,
          0.468,
          0.431,
          0.392,
          0.267,
          0.213,
          0.197,
          0.238,
          0.32,
          0.345,
          0.46,
          0.45,
          0.698,
          0.994,
          1.284,
          1.356,
          1.378,
          1.454,
          1.409,
          1.504,
          1.365,
          1.391,
          1.713,
          1.767,
          2.343,
          3.517,
          4.026,
          5.028,
          7.733,
          10.26,
          10.142,
          10.269,
          9.739,
          8.072,
          7.365,
          5.991,
          5.459,
          4.875,
          5.719,
          4.424,
          3,
          3.174,
          2.797,
          3.048
         ],
         "low": [
          0,
          0,
          0.004,
          0.017,
          0.112,
          0.193,
          0.246,
          0.19,
          0.218,
          0.165,
          0.19,
          0.155,
          0.127,
          0.119,
          0.125,
          0.166,
          0.214,
          0.269,
          0.25,
          0.413,
          0.641,
          1.03,
          0.823,
          0.779,
          0.733,
          0.825,
          0.755,
          0.883,
          0.692,
          0.808,
          1.271,
          1.591,
          2.069,
          2.466,
          2.844,
          4.041,
          3.24,
          4.931,
          4.207,
          3.826,
          3.66,
          3.252,
          2.489,
          1.387,
          1.194,
          1.987,
          1.509,
          1.551,
          1.313,
          1.319,
          1.331
         ],
         "open": [
          0,
          0.001,
          0.02,
          0.076,
          0.112,
          0.215,
          0.344,
          0.337,
          0.468,
          0.362,
          0.27,
          0.224,
          0.196,
          0.165,
          0.152,
          0.196,
          0.345,
          0.321,
          0.326,
          0.555,
          0.641,
          1.03,
          1.182,
          1.309,
          1.415,
          1.409,
          1.256,
          1.298,
          1.271,
          1.713,
          1.767,
          2.158,
          2.958,
          4.016,
          4.848,
          5.343,
          8.651,
          9.799,
          10.269,
          9.739,
          4.916,
          7.365,
          5.991,
          5.459,
          4.875,
          5.719,
          4.424,
          3,
          3.174,
          2.752,
          3.048
         ],
         "type": "candlestick"
        },
        {
         "line": {
          "color": "green",
          "width": 2
         },
         "type": "scatter",
         "x": [
          1,
          2,
          3,
          4,
          5,
          6,
          7,
          8,
          9,
          10,
          11,
          12,
          13,
          14,
          15,
          16,
          17,
          18,
          19,
          20,
          21,
          22,
          23,
          24,
          25,
          26,
          27,
          28,
          29,
          30,
          31,
          32,
          33,
          34,
          35,
          36,
          37,
          38,
          39,
          40,
          41,
          42,
          43,
          44,
          45,
          46,
          47,
          48,
          49,
          50,
          51,
          52
         ],
         "y": [
          0.001,
          0.02,
          0.076,
          0.112,
          0.215,
          0.344,
          0.337,
          0.468,
          0.362,
          0.27,
          0.224,
          0.196,
          0.165,
          0.152,
          0.196,
          0.345,
          0.321,
          0.326,
          0.555,
          0.641,
          1.03,
          1.182,
          1.309,
          1.415,
          1.409,
          1.256,
          1.298,
          1.271,
          1.713,
          1.767,
          2.158,
          2.958,
          4.016,
          4.848,
          5.343,
          8.651,
          9.799,
          10.269,
          9.739,
          4.916,
          7.365,
          5.991,
          5.459,
          4.875,
          5.719,
          4.424,
          3,
          3.174,
          2.752,
          3.048,
          2.815
         ]
        },
        {
         "line": {
          "color": "yellow",
          "width": 2
         },
         "type": "scatter",
         "x": [
          1,
          2,
          3,
          4,
          5,
          6,
          7,
          8,
          9,
          10,
          11,
          12,
          13,
          14,
          15,
          16,
          17,
          18,
          19,
          20,
          21,
          22,
          23,
          24,
          25,
          26,
          27,
          28,
          29,
          30,
          31,
          32,
          33,
          34,
          35,
          36,
          37,
          38,
          39,
          40,
          41,
          42,
          43,
          44,
          45,
          46,
          47,
          48,
          49,
          50,
          51,
          52
         ],
         "y": [
          0.023626177438416874,
          0.033809492988535805,
          0.0528626461134746,
          0.2536712909191061,
          0.18998719338210612,
          0.4226259564976003,
          0.33132308846593617,
          0.3845486644674822,
          0.36836217368639623,
          0.4007195122134596,
          0.2609445135710805,
          0.2144371265588359,
          0.199033027758166,
          0.16897766821888782,
          0.1954159137155534,
          0.30674580327849166,
          0.2890167320594552,
          0.46287960106767334,
          0.4707447639772063,
          0.7430563708278372,
          1.1198182321634915,
          1.337425070700816,
          1.4263835819574375,
          1.421510890018052,
          1.2408237649511022,
          1.2850767182081126,
          1.267384595029506,
          1.3473699203928111,
          1.3156938917702483,
          1.3295045939325931,
          1.7491891387653267,
          2.456626777834531,
          3.5667620465456444,
          3.988194213700838,
          5.4108470607112125,
          8.552287525668476,
          8.565955988885257,
          9.645495665116371,
          9.181456639529646,
          5.739559434546766,
          8.23677474527382,
          7.187092967418065,
          5.834868659749002,
          5.358079379152845,
          5.351498433293153,
          4.5141625705676764,
          3.385843175954452,
          3.298886249578107,
          3.1235491463593794,
          3.178972377264773,
          3.1051188277547963
         ]
        }
       ],
       "layout": {
        "template": {
         "data": {
          "bar": [
           {
            "error_x": {
             "color": "#2a3f5f"
            },
            "error_y": {
             "color": "#2a3f5f"
            },
            "marker": {
             "line": {
              "color": "#E5ECF6",
              "width": 0.5
             }
            },
            "type": "bar"
           }
          ],
          "barpolar": [
           {
            "marker": {
             "line": {
              "color": "#E5ECF6",
              "width": 0.5
             }
            },
            "type": "barpolar"
           }
          ],
          "carpet": [
           {
            "aaxis": {
             "endlinecolor": "#2a3f5f",
             "gridcolor": "white",
             "linecolor": "white",
             "minorgridcolor": "white",
             "startlinecolor": "#2a3f5f"
            },
            "baxis": {
             "endlinecolor": "#2a3f5f",
             "gridcolor": "white",
             "linecolor": "white",
             "minorgridcolor": "white",
             "startlinecolor": "#2a3f5f"
            },
            "type": "carpet"
           }
          ],
          "choropleth": [
           {
            "colorbar": {
             "outlinewidth": 0,
             "ticks": ""
            },
            "type": "choropleth"
           }
          ],
          "contour": [
           {
            "colorbar": {
             "outlinewidth": 0,
             "ticks": ""
            },
            "colorscale": [
             [
              0,
              "#0d0887"
             ],
             [
              0.1111111111111111,
              "#46039f"
             ],
             [
              0.2222222222222222,
              "#7201a8"
             ],
             [
              0.3333333333333333,
              "#9c179e"
             ],
             [
              0.4444444444444444,
              "#bd3786"
             ],
             [
              0.5555555555555556,
              "#d8576b"
             ],
             [
              0.6666666666666666,
              "#ed7953"
             ],
             [
              0.7777777777777778,
              "#fb9f3a"
             ],
             [
              0.8888888888888888,
              "#fdca26"
             ],
             [
              1,
              "#f0f921"
             ]
            ],
            "type": "contour"
           }
          ],
          "contourcarpet": [
           {
            "colorbar": {
             "outlinewidth": 0,
             "ticks": ""
            },
            "type": "contourcarpet"
           }
          ],
          "heatmap": [
           {
            "colorbar": {
             "outlinewidth": 0,
             "ticks": ""
            },
            "colorscale": [
             [
              0,
              "#0d0887"
             ],
             [
              0.1111111111111111,
              "#46039f"
             ],
             [
              0.2222222222222222,
              "#7201a8"
             ],
             [
              0.3333333333333333,
              "#9c179e"
             ],
             [
              0.4444444444444444,
              "#bd3786"
             ],
             [
              0.5555555555555556,
              "#d8576b"
             ],
             [
              0.6666666666666666,
              "#ed7953"
             ],
             [
              0.7777777777777778,
              "#fb9f3a"
             ],
             [
              0.8888888888888888,
              "#fdca26"
             ],
             [
              1,
              "#f0f921"
             ]
            ],
            "type": "heatmap"
           }
          ],
          "heatmapgl": [
           {
            "colorbar": {
             "outlinewidth": 0,
             "ticks": ""
            },
            "colorscale": [
             [
              0,
              "#0d0887"
             ],
             [
              0.1111111111111111,
              "#46039f"
             ],
             [
              0.2222222222222222,
              "#7201a8"
             ],
             [
              0.3333333333333333,
              "#9c179e"
             ],
             [
              0.4444444444444444,
              "#bd3786"
             ],
             [
              0.5555555555555556,
              "#d8576b"
             ],
             [
              0.6666666666666666,
              "#ed7953"
             ],
             [
              0.7777777777777778,
              "#fb9f3a"
             ],
             [
              0.8888888888888888,
              "#fdca26"
             ],
             [
              1,
              "#f0f921"
             ]
            ],
            "type": "heatmapgl"
           }
          ],
          "histogram": [
           {
            "marker": {
             "colorbar": {
              "outlinewidth": 0,
              "ticks": ""
             }
            },
            "type": "histogram"
           }
          ],
          "histogram2d": [
           {
            "colorbar": {
             "outlinewidth": 0,
             "ticks": ""
            },
            "colorscale": [
             [
              0,
              "#0d0887"
             ],
             [
              0.1111111111111111,
              "#46039f"
             ],
             [
              0.2222222222222222,
              "#7201a8"
             ],
             [
              0.3333333333333333,
              "#9c179e"
             ],
             [
              0.4444444444444444,
              "#bd3786"
             ],
             [
              0.5555555555555556,
              "#d8576b"
             ],
             [
              0.6666666666666666,
              "#ed7953"
             ],
             [
              0.7777777777777778,
              "#fb9f3a"
             ],
             [
              0.8888888888888888,
              "#fdca26"
             ],
             [
              1,
              "#f0f921"
             ]
            ],
            "type": "histogram2d"
           }
          ],
          "histogram2dcontour": [
           {
            "colorbar": {
             "outlinewidth": 0,
             "ticks": ""
            },
            "colorscale": [
             [
              0,
              "#0d0887"
             ],
             [
              0.1111111111111111,
              "#46039f"
             ],
             [
              0.2222222222222222,
              "#7201a8"
             ],
             [
              0.3333333333333333,
              "#9c179e"
             ],
             [
              0.4444444444444444,
              "#bd3786"
             ],
             [
              0.5555555555555556,
              "#d8576b"
             ],
             [
              0.6666666666666666,
              "#ed7953"
             ],
             [
              0.7777777777777778,
              "#fb9f3a"
             ],
             [
              0.8888888888888888,
              "#fdca26"
             ],
             [
              1,
              "#f0f921"
             ]
            ],
            "type": "histogram2dcontour"
           }
          ],
          "mesh3d": [
           {
            "colorbar": {
             "outlinewidth": 0,
             "ticks": ""
            },
            "type": "mesh3d"
           }
          ],
          "parcoords": [
           {
            "line": {
             "colorbar": {
              "outlinewidth": 0,
              "ticks": ""
             }
            },
            "type": "parcoords"
           }
          ],
          "pie": [
           {
            "automargin": true,
            "type": "pie"
           }
          ],
          "scatter": [
           {
            "marker": {
             "colorbar": {
              "outlinewidth": 0,
              "ticks": ""
             }
            },
            "type": "scatter"
           }
          ],
          "scatter3d": [
           {
            "line": {
             "colorbar": {
              "outlinewidth": 0,
              "ticks": ""
             }
            },
            "marker": {
             "colorbar": {
              "outlinewidth": 0,
              "ticks": ""
             }
            },
            "type": "scatter3d"
           }
          ],
          "scattercarpet": [
           {
            "marker": {
             "colorbar": {
              "outlinewidth": 0,
              "ticks": ""
             }
            },
            "type": "scattercarpet"
           }
          ],
          "scattergeo": [
           {
            "marker": {
             "colorbar": {
              "outlinewidth": 0,
              "ticks": ""
             }
            },
            "type": "scattergeo"
           }
          ],
          "scattergl": [
           {
            "marker": {
             "colorbar": {
              "outlinewidth": 0,
              "ticks": ""
             }
            },
            "type": "scattergl"
           }
          ],
          "scattermapbox": [
           {
            "marker": {
             "colorbar": {
              "outlinewidth": 0,
              "ticks": ""
             }
            },
            "type": "scattermapbox"
           }
          ],
          "scatterpolar": [
           {
            "marker": {
             "colorbar": {
              "outlinewidth": 0,
              "ticks": ""
             }
            },
            "type": "scatterpolar"
           }
          ],
          "scatterpolargl": [
           {
            "marker": {
             "colorbar": {
              "outlinewidth": 0,
              "ticks": ""
             }
            },
            "type": "scatterpolargl"
           }
          ],
          "scatterternary": [
           {
            "marker": {
             "colorbar": {
              "outlinewidth": 0,
              "ticks": ""
             }
            },
            "type": "scatterternary"
           }
          ],
          "surface": [
           {
            "colorbar": {
             "outlinewidth": 0,
             "ticks": ""
            },
            "colorscale": [
             [
              0,
              "#0d0887"
             ],
             [
              0.1111111111111111,
              "#46039f"
             ],
             [
              0.2222222222222222,
              "#7201a8"
             ],
             [
              0.3333333333333333,
              "#9c179e"
             ],
             [
              0.4444444444444444,
              "#bd3786"
             ],
             [
              0.5555555555555556,
              "#d8576b"
             ],
             [
              0.6666666666666666,
              "#ed7953"
             ],
             [
              0.7777777777777778,
              "#fb9f3a"
             ],
             [
              0.8888888888888888,
              "#fdca26"
             ],
             [
              1,
              "#f0f921"
             ]
            ],
            "type": "surface"
           }
          ],
          "table": [
           {
            "cells": {
             "fill": {
              "color": "#EBF0F8"
             },
             "line": {
              "color": "white"
             }
            },
            "header": {
             "fill": {
              "color": "#C8D4E3"
             },
             "line": {
              "color": "white"
             }
            },
            "type": "table"
           }
          ]
         },
         "layout": {
          "annotationdefaults": {
           "arrowcolor": "#2a3f5f",
           "arrowhead": 0,
           "arrowwidth": 1
          },
          "autotypenumbers": "strict",
          "coloraxis": {
           "colorbar": {
            "outlinewidth": 0,
            "ticks": ""
           }
          },
          "colorscale": {
           "diverging": [
            [
             0,
             "#8e0152"
            ],
            [
             0.1,
             "#c51b7d"
            ],
            [
             0.2,
             "#de77ae"
            ],
            [
             0.3,
             "#f1b6da"
            ],
            [
             0.4,
             "#fde0ef"
            ],
            [
             0.5,
             "#f7f7f7"
            ],
            [
             0.6,
             "#e6f5d0"
            ],
            [
             0.7,
             "#b8e186"
            ],
            [
             0.8,
             "#7fbc41"
            ],
            [
             0.9,
             "#4d9221"
            ],
            [
             1,
             "#276419"
            ]
           ],
           "sequential": [
            [
             0,
             "#0d0887"
            ],
            [
             0.1111111111111111,
             "#46039f"
            ],
            [
             0.2222222222222222,
             "#7201a8"
            ],
            [
             0.3333333333333333,
             "#9c179e"
            ],
            [
             0.4444444444444444,
             "#bd3786"
            ],
            [
             0.5555555555555556,
             "#d8576b"
            ],
            [
             0.6666666666666666,
             "#ed7953"
            ],
            [
             0.7777777777777778,
             "#fb9f3a"
            ],
            [
             0.8888888888888888,
             "#fdca26"
            ],
            [
             1,
             "#f0f921"
            ]
           ],
           "sequentialminus": [
            [
             0,
             "#0d0887"
            ],
            [
             0.1111111111111111,
             "#46039f"
            ],
            [
             0.2222222222222222,
             "#7201a8"
            ],
            [
             0.3333333333333333,
             "#9c179e"
            ],
            [
             0.4444444444444444,
             "#bd3786"
            ],
            [
             0.5555555555555556,
             "#d8576b"
            ],
            [
             0.6666666666666666,
             "#ed7953"
            ],
            [
             0.7777777777777778,
             "#fb9f3a"
            ],
            [
             0.8888888888888888,
             "#fdca26"
            ],
            [
             1,
             "#f0f921"
            ]
           ]
          },
          "colorway": [
           "#636efa",
           "#EF553B",
           "#00cc96",
           "#ab63fa",
           "#FFA15A",
           "#19d3f3",
           "#FF6692",
           "#B6E880",
           "#FF97FF",
           "#FECB52"
          ],
          "font": {
           "color": "#2a3f5f"
          },
          "geo": {
           "bgcolor": "white",
           "lakecolor": "white",
           "landcolor": "#E5ECF6",
           "showlakes": true,
           "showland": true,
           "subunitcolor": "white"
          },
          "hoverlabel": {
           "align": "left"
          },
          "hovermode": "closest",
          "mapbox": {
           "style": "light"
          },
          "paper_bgcolor": "white",
          "plot_bgcolor": "#E5ECF6",
          "polar": {
           "angularaxis": {
            "gridcolor": "white",
            "linecolor": "white",
            "ticks": ""
           },
           "bgcolor": "#E5ECF6",
           "radialaxis": {
            "gridcolor": "white",
            "linecolor": "white",
            "ticks": ""
           }
          },
          "scene": {
           "xaxis": {
            "backgroundcolor": "#E5ECF6",
            "gridcolor": "white",
            "gridwidth": 2,
            "linecolor": "white",
            "showbackground": true,
            "ticks": "",
            "zerolinecolor": "white"
           },
           "yaxis": {
            "backgroundcolor": "#E5ECF6",
            "gridcolor": "white",
            "gridwidth": 2,
            "linecolor": "white",
            "showbackground": true,
            "ticks": "",
            "zerolinecolor": "white"
           },
           "zaxis": {
            "backgroundcolor": "#E5ECF6",
            "gridcolor": "white",
            "gridwidth": 2,
            "linecolor": "white",
            "showbackground": true,
            "ticks": "",
            "zerolinecolor": "white"
           }
          },
          "shapedefaults": {
           "line": {
            "color": "#2a3f5f"
           }
          },
          "ternary": {
           "aaxis": {
            "gridcolor": "white",
            "linecolor": "white",
            "ticks": ""
           },
           "baxis": {
            "gridcolor": "white",
            "linecolor": "white",
            "ticks": ""
           },
           "bgcolor": "#E5ECF6",
           "caxis": {
            "gridcolor": "white",
            "linecolor": "white",
            "ticks": ""
           }
          },
          "title": {
           "x": 0.05
          },
          "xaxis": {
           "automargin": true,
           "gridcolor": "white",
           "linecolor": "white",
           "ticks": "",
           "title": {
            "standoff": 15
           },
           "zerolinecolor": "white",
           "zerolinewidth": 2
          },
          "yaxis": {
           "automargin": true,
           "gridcolor": "white",
           "linecolor": "white",
           "ticks": "",
           "title": {
            "standoff": 15
           },
           "zerolinecolor": "white",
           "zerolinewidth": 2
          }
         }
        }
       }
      }
     },
     "metadata": {}
    }
   ],
   "source": [
    "fig = go.Figure()\n",
    "fig.add_trace(go.Candlestick(\n",
    "    open=X[:,0],\n",
    "    high=X[:,1],\n",
    "    low=X[:,2],\n",
    "    close=X[:,3]\n",
    "))\n",
    "fig.add_trace(go.Scatter(x=romania.index+1, y=y.flatten(), line=dict(color='green', width=2)))\n",
    "fig.add_trace(go.Scatter(x=romania.index+1, y=y_pred.flatten(), line=dict(color='yellow', width=2)))\n",
    "fig.show()"
   ]
  },
  {
   "source": [
    "## Concluzii"
   ],
   "cell_type": "markdown",
   "metadata": {}
  },
  {
   "cell_type": "code",
   "execution_count": 13,
   "metadata": {},
   "outputs": [
    {
     "output_type": "execute_result",
     "data": {
      "text/plain": [
       "                  Model_Regresie   Theta_0   Theta_1   Theta_2   Theta_3  \\\n",
       "0  Regresie polinomiala multipla  1.380887 -1.790565  0.955148  1.028530   \n",
       "1            Regresie ElasticNet  0.092274  0.058988  0.034924  0.961914   \n",
       "\n",
       "   Intercept       MSE  Coef_Det  \n",
       "0   0.172307  0.108839  0.986292  \n",
       "1   0.023508  0.155094  0.980466  "
      ],
      "text/html": "<div>\n<style scoped>\n    .dataframe tbody tr th:only-of-type {\n        vertical-align: middle;\n    }\n\n    .dataframe tbody tr th {\n        vertical-align: top;\n    }\n\n    .dataframe thead th {\n        text-align: right;\n    }\n</style>\n<table border=\"1\" class=\"dataframe\">\n  <thead>\n    <tr style=\"text-align: right;\">\n      <th></th>\n      <th>Model_Regresie</th>\n      <th>Theta_0</th>\n      <th>Theta_1</th>\n      <th>Theta_2</th>\n      <th>Theta_3</th>\n      <th>Intercept</th>\n      <th>MSE</th>\n      <th>Coef_Det</th>\n    </tr>\n  </thead>\n  <tbody>\n    <tr>\n      <th>0</th>\n      <td>Regresie polinomiala multipla</td>\n      <td>1.380887</td>\n      <td>-1.790565</td>\n      <td>0.955148</td>\n      <td>1.028530</td>\n      <td>0.172307</td>\n      <td>0.108839</td>\n      <td>0.986292</td>\n    </tr>\n    <tr>\n      <th>1</th>\n      <td>Regresie ElasticNet</td>\n      <td>0.092274</td>\n      <td>0.058988</td>\n      <td>0.034924</td>\n      <td>0.961914</td>\n      <td>0.023508</td>\n      <td>0.155094</td>\n      <td>0.980466</td>\n    </tr>\n  </tbody>\n</table>\n</div>"
     },
     "metadata": {},
     "execution_count": 13
    }
   ],
   "source": [
    "concluzii"
   ]
  },
  {
   "source": [
    "- *Din tabelul de mai sus se poate observa ca modelul de **regresie polinamiala** este cel mai bun, cu o eroare de 0.108 si un coef de determinare de 0.986\n",
    "apoi **ElasticNet** cu o eroare de 0.155 si un coef de determinare de 0.9804.*\n",
    "- *Cu cat **eroarea medie patratica** este mai mica iar **coeficientul de determinare** mai mare, cu atat **regresia liniara este cea mai sigura** de folosit pentru preziceri imediate.*"
   ],
   "cell_type": "markdown",
   "metadata": {}
  }
 ]
}